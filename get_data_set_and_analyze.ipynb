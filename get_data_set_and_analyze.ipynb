{
 "cells": [
  {
   "cell_type": "code",
   "execution_count": 1,
   "metadata": {},
   "outputs": [],
   "source": [
    "import os\n",
    "import subprocess\n",
    "import importlib\n",
    "import pandas as pd\n",
    "import tokenize\n",
    "from matplotlib import pyplot as plt"
   ]
  },
  {
   "cell_type": "code",
   "execution_count": 2,
   "metadata": {},
   "outputs": [
    {
     "data": {
      "text/plain": [
       "<module 'create_data_set_utils' from '/home/erez/research/code_completion/create_data_set_utils.py'>"
      ]
     },
     "execution_count": 2,
     "metadata": {},
     "output_type": "execute_result"
    }
   ],
   "source": [
    "import create_data_set_utils\n",
    "importlib.reload(create_data_set_utils)"
   ]
  },
  {
   "cell_type": "code",
   "execution_count": 3,
   "metadata": {},
   "outputs": [],
   "source": [
    "dir_path = r\"/home/erez/github_repos/siva/latest/\""
   ]
  },
  {
   "cell_type": "code",
   "execution_count": null,
   "metadata": {},
   "outputs": [],
   "source": [
    "# get_data_set.unpack_siva_files_and_checkout_git_repos(dir_path)"
   ]
  },
  {
   "cell_type": "code",
   "execution_count": null,
   "metadata": {},
   "outputs": [],
   "source": [
    "all_python_files_list = create_data_set_utils.get_python_files_paths(dir_path)"
   ]
  },
  {
   "cell_type": "code",
   "execution_count": null,
   "metadata": {},
   "outputs": [],
   "source": [
    "len(all_python_files_list)"
   ]
  },
  {
   "cell_type": "code",
   "execution_count": null,
   "metadata": {},
   "outputs": [],
   "source": [
    "python_files_df = create_data_set_utils.create_python_files_df(all_python_files_list)"
   ]
  },
  {
   "cell_type": "code",
   "execution_count": null,
   "metadata": {},
   "outputs": [],
   "source": [
    "python_files_df.head()"
   ]
  },
  {
   "cell_type": "code",
   "execution_count": null,
   "metadata": {},
   "outputs": [],
   "source": [
    "python_files_df['number_of_lines'].sum()"
   ]
  },
  {
   "cell_type": "code",
   "execution_count": null,
   "metadata": {},
   "outputs": [],
   "source": [
    "tokens_df = create_data_set_utils.create_tokens_df(python_files_df)\n",
    "tokens_df.head()"
   ]
  },
  {
   "cell_type": "code",
   "execution_count": null,
   "metadata": {},
   "outputs": [],
   "source": [
    "tokens_df.shape"
   ]
  },
  {
   "cell_type": "code",
   "execution_count": null,
   "metadata": {},
   "outputs": [],
   "source": [
    "tokens_df.memory_usage(deep=True).sum()"
   ]
  },
  {
   "cell_type": "code",
   "execution_count": null,
   "metadata": {},
   "outputs": [],
   "source": [
    "len(tokens_df['string'].unique())"
   ]
  },
  {
   "cell_type": "code",
   "execution_count": null,
   "metadata": {},
   "outputs": [],
   "source": [
    "tokens_df['type_name'].unique().tolist()"
   ]
  },
  {
   "cell_type": "code",
   "execution_count": null,
   "metadata": {},
   "outputs": [],
   "source": [
    "tokens_df.groupby('type_name').size()"
   ]
  },
  {
   "cell_type": "code",
   "execution_count": null,
   "metadata": {},
   "outputs": [],
   "source": [
    "tokens_df.groupby('type_name').apply(lambda x: len(x['string'].unique()))"
   ]
  },
  {
   "cell_type": "code",
   "execution_count": null,
   "metadata": {},
   "outputs": [],
   "source": [
    "tokens_df[tokens_df['type_name'] == 'NEWLINE']['string'].value_counts()"
   ]
  },
  {
   "cell_type": "code",
   "execution_count": null,
   "metadata": {},
   "outputs": [],
   "source": [
    "tokens_df[tokens_df['type_name'] == 'OP']['string'].value_counts()"
   ]
  },
  {
   "cell_type": "code",
   "execution_count": null,
   "metadata": {},
   "outputs": [],
   "source": [
    "tokens_df[tokens_df['type_name'] == 'BACKQUOTE']['string'].value_counts()"
   ]
  },
  {
   "cell_type": "code",
   "execution_count": null,
   "metadata": {},
   "outputs": [],
   "source": [
    "tokens_df[tokens_df['type_name'] == 'INDENT']['string'].value_counts()"
   ]
  },
  {
   "cell_type": "code",
   "execution_count": null,
   "metadata": {},
   "outputs": [],
   "source": [
    "tokens_df[tokens_df['type_name'] == 'DEDENT']['string'].value_counts()"
   ]
  },
  {
   "cell_type": "code",
   "execution_count": null,
   "metadata": {},
   "outputs": [],
   "source": [
    "tokens_df[tokens_df['type_name'] == 'NL']['string'].value_counts()"
   ]
  },
  {
   "cell_type": "markdown",
   "metadata": {},
   "source": [
    "# read / load from csv"
   ]
  },
  {
   "cell_type": "code",
   "execution_count": 4,
   "metadata": {},
   "outputs": [],
   "source": [
    "tokens_csv_file_path = 'tokens.csv'\n",
    "python_files_csv_file_path = 'python_files.csv'\n",
    "# python_files_df.to_csv(python_files_csv_file_path)\n",
    "# tokens_df.to_csv(tokens_csv_file_path)\n",
    "python_files_df = pd.read_csv(python_files_csv_file_path)\n",
    "tokens_df = pd.read_csv(tokens_csv_file_path)"
   ]
  },
  {
   "cell_type": "markdown",
   "metadata": {},
   "source": [
    "# imports"
   ]
  },
  {
   "cell_type": "code",
   "execution_count": 5,
   "metadata": {},
   "outputs": [
    {
     "name": "stderr",
     "output_type": "stream",
     "text": [
      "/home/erez/anaconda3/lib/python3.6/site-packages/ipykernel_launcher.py:2: SettingWithCopyWarning: \n",
      "A value is trying to be set on a copy of a slice from a DataFrame.\n",
      "Try using .loc[row_indexer,col_indexer] = value instead\n",
      "\n",
      "See the caveats in the documentation: http://pandas.pydata.org/pandas-docs/stable/indexing.html#indexing-view-versus-copy\n",
      "  \n"
     ]
    },
    {
     "data": {
      "text/plain": [
       "(326359, 8)"
      ]
     },
     "execution_count": 5,
     "metadata": {},
     "output_type": "execute_result"
    }
   ],
   "source": [
    "imports_df = tokens_df[tokens_df.line.str.startswith('import ') | tokens_df.line.str.startswith('from ')]\n",
    "imports_df['line'] = imports_df['line'].str.strip()\n",
    "imports_df.shape"
   ]
  },
  {
   "cell_type": "code",
   "execution_count": 6,
   "metadata": {},
   "outputs": [
    {
     "data": {
      "text/html": [
       "<div>\n",
       "<style scoped>\n",
       "    .dataframe tbody tr th:only-of-type {\n",
       "        vertical-align: middle;\n",
       "    }\n",
       "\n",
       "    .dataframe tbody tr th {\n",
       "        vertical-align: top;\n",
       "    }\n",
       "\n",
       "    .dataframe thead th {\n",
       "        text-align: right;\n",
       "    }\n",
       "</style>\n",
       "<table border=\"1\" class=\"dataframe\">\n",
       "  <thead>\n",
       "    <tr style=\"text-align: right;\">\n",
       "      <th></th>\n",
       "      <th>Unnamed: 0</th>\n",
       "      <th>end</th>\n",
       "      <th>file_path</th>\n",
       "      <th>line</th>\n",
       "      <th>line_index</th>\n",
       "      <th>start</th>\n",
       "      <th>string</th>\n",
       "      <th>type_name</th>\n",
       "    </tr>\n",
       "  </thead>\n",
       "  <tbody>\n",
       "    <tr>\n",
       "      <th>1</th>\n",
       "      <td>1</td>\n",
       "      <td>(1, 6)</td>\n",
       "      <td>/home/erez/github_repos/siva/latest/e2/temp_gi...</td>\n",
       "      <td>import sys</td>\n",
       "      <td>1</td>\n",
       "      <td>(1, 0)</td>\n",
       "      <td>import</td>\n",
       "      <td>NAME</td>\n",
       "    </tr>\n",
       "    <tr>\n",
       "      <th>2</th>\n",
       "      <td>2</td>\n",
       "      <td>(1, 10)</td>\n",
       "      <td>/home/erez/github_repos/siva/latest/e2/temp_gi...</td>\n",
       "      <td>import sys</td>\n",
       "      <td>1</td>\n",
       "      <td>(1, 7)</td>\n",
       "      <td>sys</td>\n",
       "      <td>NAME</td>\n",
       "    </tr>\n",
       "    <tr>\n",
       "      <th>3</th>\n",
       "      <td>3</td>\n",
       "      <td>(1, 11)</td>\n",
       "      <td>/home/erez/github_repos/siva/latest/e2/temp_gi...</td>\n",
       "      <td>import sys</td>\n",
       "      <td>1</td>\n",
       "      <td>(1, 10)</td>\n",
       "      <td>\\n</td>\n",
       "      <td>NEWLINE</td>\n",
       "    </tr>\n",
       "    <tr>\n",
       "      <th>4</th>\n",
       "      <td>4</td>\n",
       "      <td>(2, 6)</td>\n",
       "      <td>/home/erez/github_repos/siva/latest/e2/temp_gi...</td>\n",
       "      <td>import os</td>\n",
       "      <td>2</td>\n",
       "      <td>(2, 0)</td>\n",
       "      <td>import</td>\n",
       "      <td>NAME</td>\n",
       "    </tr>\n",
       "    <tr>\n",
       "      <th>5</th>\n",
       "      <td>5</td>\n",
       "      <td>(2, 9)</td>\n",
       "      <td>/home/erez/github_repos/siva/latest/e2/temp_gi...</td>\n",
       "      <td>import os</td>\n",
       "      <td>2</td>\n",
       "      <td>(2, 7)</td>\n",
       "      <td>os</td>\n",
       "      <td>NAME</td>\n",
       "    </tr>\n",
       "  </tbody>\n",
       "</table>\n",
       "</div>"
      ],
      "text/plain": [
       "   Unnamed: 0      end                                          file_path  \\\n",
       "1           1   (1, 6)  /home/erez/github_repos/siva/latest/e2/temp_gi...   \n",
       "2           2  (1, 10)  /home/erez/github_repos/siva/latest/e2/temp_gi...   \n",
       "3           3  (1, 11)  /home/erez/github_repos/siva/latest/e2/temp_gi...   \n",
       "4           4   (2, 6)  /home/erez/github_repos/siva/latest/e2/temp_gi...   \n",
       "5           5   (2, 9)  /home/erez/github_repos/siva/latest/e2/temp_gi...   \n",
       "\n",
       "         line  line_index    start  string type_name  \n",
       "1  import sys           1   (1, 0)  import      NAME  \n",
       "2  import sys           1   (1, 7)     sys      NAME  \n",
       "3  import sys           1  (1, 10)      \\n   NEWLINE  \n",
       "4   import os           2   (2, 0)  import      NAME  \n",
       "5   import os           2   (2, 7)      os      NAME  "
      ]
     },
     "execution_count": 6,
     "metadata": {},
     "output_type": "execute_result"
    }
   ],
   "source": [
    "imports_df.head()"
   ]
  },
  {
   "cell_type": "code",
   "execution_count": 7,
   "metadata": {},
   "outputs": [
    {
     "data": {
      "text/plain": [
       "(56395, 8)"
      ]
     },
     "execution_count": 7,
     "metadata": {},
     "output_type": "execute_result"
    }
   ],
   "source": [
    "imports_lines_df = imports_df.drop_duplicates(['file_path', 'line'])\n",
    "imports_lines_df.shape"
   ]
  },
  {
   "cell_type": "code",
   "execution_count": 8,
   "metadata": {},
   "outputs": [
    {
     "data": {
      "text/plain": [
       "(9026,)"
      ]
     },
     "execution_count": 8,
     "metadata": {},
     "output_type": "execute_result"
    }
   ],
   "source": [
    "imports_counts_series = imports_lines_df.line.value_counts()\n",
    "imports_counts_series.shape"
   ]
  },
  {
   "cell_type": "code",
   "execution_count": 9,
   "metadata": {},
   "outputs": [
    {
     "data": {
      "text/html": [
       "<div>\n",
       "<style scoped>\n",
       "    .dataframe tbody tr th:only-of-type {\n",
       "        vertical-align: middle;\n",
       "    }\n",
       "\n",
       "    .dataframe tbody tr th {\n",
       "        vertical-align: top;\n",
       "    }\n",
       "\n",
       "    .dataframe thead th {\n",
       "        text-align: right;\n",
       "    }\n",
       "</style>\n",
       "<table border=\"1\" class=\"dataframe\">\n",
       "  <thead>\n",
       "    <tr style=\"text-align: right;\">\n",
       "      <th></th>\n",
       "      <th>count</th>\n",
       "      <th>line</th>\n",
       "    </tr>\n",
       "  </thead>\n",
       "  <tbody>\n",
       "    <tr>\n",
       "      <th>0</th>\n",
       "      <td>3474</td>\n",
       "      <td>import numpy as np</td>\n",
       "    </tr>\n",
       "    <tr>\n",
       "      <th>1</th>\n",
       "      <td>3421</td>\n",
       "      <td>import tensorflow as tf</td>\n",
       "    </tr>\n",
       "    <tr>\n",
       "      <th>2</th>\n",
       "      <td>2803</td>\n",
       "      <td>from __future__ import print_function</td>\n",
       "    </tr>\n",
       "    <tr>\n",
       "      <th>3</th>\n",
       "      <td>2522</td>\n",
       "      <td>from __future__ import division</td>\n",
       "    </tr>\n",
       "    <tr>\n",
       "      <th>4</th>\n",
       "      <td>2455</td>\n",
       "      <td>from __future__ import absolute_import</td>\n",
       "    </tr>\n",
       "  </tbody>\n",
       "</table>\n",
       "</div>"
      ],
      "text/plain": [
       "   count                                    line\n",
       "0   3474                      import numpy as np\n",
       "1   3421                 import tensorflow as tf\n",
       "2   2803   from __future__ import print_function\n",
       "3   2522         from __future__ import division\n",
       "4   2455  from __future__ import absolute_import"
      ]
     },
     "execution_count": 9,
     "metadata": {},
     "output_type": "execute_result"
    }
   ],
   "source": [
    "imports_counts_df = pd.DataFrame(imports_counts_series)\n",
    "imports_counts_df.rename(columns={'line': 'count'}, inplace=True)\n",
    "imports_counts_df['line'] = imports_counts_df.index.str.strip()\n",
    "imports_counts_df.reset_index(drop=True).head()"
   ]
  },
  {
   "cell_type": "code",
   "execution_count": 10,
   "metadata": {},
   "outputs": [],
   "source": [
    "imports_counts_df['is_import'] = imports_counts_df.line.str.startswith('import')"
   ]
  },
  {
   "cell_type": "code",
   "execution_count": 11,
   "metadata": {},
   "outputs": [
    {
     "data": {
      "text/plain": [
       "is_import\n",
       "False    29848\n",
       "True     26547\n",
       "Name: count, dtype: int64"
      ]
     },
     "execution_count": 11,
     "metadata": {},
     "output_type": "execute_result"
    }
   ],
   "source": [
    "imports_counts_df.groupby('is_import')['count'].sum()"
   ]
  },
  {
   "cell_type": "code",
   "execution_count": 12,
   "metadata": {},
   "outputs": [
    {
     "data": {
      "text/html": [
       "<div>\n",
       "<style scoped>\n",
       "    .dataframe tbody tr th:only-of-type {\n",
       "        vertical-align: middle;\n",
       "    }\n",
       "\n",
       "    .dataframe tbody tr th {\n",
       "        vertical-align: top;\n",
       "    }\n",
       "\n",
       "    .dataframe thead th {\n",
       "        text-align: right;\n",
       "    }\n",
       "</style>\n",
       "<table border=\"1\" class=\"dataframe\">\n",
       "  <thead>\n",
       "    <tr style=\"text-align: right;\">\n",
       "      <th></th>\n",
       "      <th>count</th>\n",
       "      <th>line</th>\n",
       "      <th>is_import</th>\n",
       "    </tr>\n",
       "  </thead>\n",
       "  <tbody>\n",
       "    <tr>\n",
       "      <th>import numpy as np</th>\n",
       "      <td>3474</td>\n",
       "      <td>import numpy as np</td>\n",
       "      <td>True</td>\n",
       "    </tr>\n",
       "    <tr>\n",
       "      <th>import tensorflow as tf</th>\n",
       "      <td>3421</td>\n",
       "      <td>import tensorflow as tf</td>\n",
       "      <td>True</td>\n",
       "    </tr>\n",
       "    <tr>\n",
       "      <th>from __future__ import print_function</th>\n",
       "      <td>2803</td>\n",
       "      <td>from __future__ import print_function</td>\n",
       "      <td>False</td>\n",
       "    </tr>\n",
       "    <tr>\n",
       "      <th>from __future__ import division</th>\n",
       "      <td>2522</td>\n",
       "      <td>from __future__ import division</td>\n",
       "      <td>False</td>\n",
       "    </tr>\n",
       "    <tr>\n",
       "      <th>from __future__ import absolute_import</th>\n",
       "      <td>2455</td>\n",
       "      <td>from __future__ import absolute_import</td>\n",
       "      <td>False</td>\n",
       "    </tr>\n",
       "  </tbody>\n",
       "</table>\n",
       "</div>"
      ],
      "text/plain": [
       "                                        count  \\\n",
       "import numpy as np                       3474   \n",
       "import tensorflow as tf                  3421   \n",
       "from __future__ import print_function    2803   \n",
       "from __future__ import division          2522   \n",
       "from __future__ import absolute_import   2455   \n",
       "\n",
       "                                                                          line  \\\n",
       "import numpy as np                                          import numpy as np   \n",
       "import tensorflow as tf                                import tensorflow as tf   \n",
       "from __future__ import print_function    from __future__ import print_function   \n",
       "from __future__ import division                from __future__ import division   \n",
       "from __future__ import absolute_import  from __future__ import absolute_import   \n",
       "\n",
       "                                        is_import  \n",
       "import numpy as np                           True  \n",
       "import tensorflow as tf                      True  \n",
       "from __future__ import print_function       False  \n",
       "from __future__ import division             False  \n",
       "from __future__ import absolute_import      False  "
      ]
     },
     "execution_count": 12,
     "metadata": {},
     "output_type": "execute_result"
    }
   ],
   "source": [
    "imports_counts_df.head()"
   ]
  },
  {
   "cell_type": "code",
   "execution_count": 13,
   "metadata": {},
   "outputs": [],
   "source": [
    "def get_start_char(line):\n",
    "    if line.startswith('import'):\n",
    "        return line[len('import ')]\n",
    "    else:\n",
    "        return line[len('from ')]"
   ]
  },
  {
   "cell_type": "code",
   "execution_count": 14,
   "metadata": {},
   "outputs": [],
   "source": [
    "imports_counts_df['start_char'] = imports_counts_df['line'].apply(get_start_char)"
   ]
  },
  {
   "cell_type": "code",
   "execution_count": 15,
   "metadata": {},
   "outputs": [
    {
     "data": {
      "text/plain": [
       "0.34215799272985192"
      ]
     },
     "execution_count": 15,
     "metadata": {},
     "output_type": "execute_result"
    }
   ],
   "source": [
    "top_1_count = imports_counts_df.groupby(['is_import', 'start_char'])['count'].max()\n",
    "top_1_precision = top_1_count.sum() / imports_counts_df['count'].sum()\n",
    "top_1_precision"
   ]
  },
  {
   "cell_type": "code",
   "execution_count": 22,
   "metadata": {},
   "outputs": [],
   "source": [
    "def complete_code(string_to_complete, numer_of_options=3):\n",
    "    relevant_df = imports_counts_df[imports_counts_df['line'].str.startswith(string_to_complete)]\n",
    "    total_relevant = relevant_df['count'].sum()\n",
    "    most_relevant_df = relevant_df.sort_values(by='count', ascending=False).iloc[:numer_of_options]\n",
    "    results_df = most_relevant_df[['count', 'line']].reset_index(drop=True)\n",
    "    results_df['prob'] = results_df['count'] / total_relevant\n",
    "    print(results_df['prob'].sum())\n",
    "    return results_df"
   ]
  },
  {
   "cell_type": "code",
   "execution_count": 29,
   "metadata": {},
   "outputs": [
    {
     "name": "stdout",
     "output_type": "stream",
     "text": [
      "0.990440251572\n"
     ]
    },
    {
     "data": {
      "text/html": [
       "<div>\n",
       "<style scoped>\n",
       "    .dataframe tbody tr th:only-of-type {\n",
       "        vertical-align: middle;\n",
       "    }\n",
       "\n",
       "    .dataframe tbody tr th {\n",
       "        vertical-align: top;\n",
       "    }\n",
       "\n",
       "    .dataframe thead th {\n",
       "        text-align: right;\n",
       "    }\n",
       "</style>\n",
       "<table border=\"1\" class=\"dataframe\">\n",
       "  <thead>\n",
       "    <tr style=\"text-align: right;\">\n",
       "      <th></th>\n",
       "      <th>count</th>\n",
       "      <th>line</th>\n",
       "      <th>prob</th>\n",
       "    </tr>\n",
       "  </thead>\n",
       "  <tbody>\n",
       "    <tr>\n",
       "      <th>0</th>\n",
       "      <td>2803</td>\n",
       "      <td>from __future__ import print_function</td>\n",
       "      <td>0.352579</td>\n",
       "    </tr>\n",
       "    <tr>\n",
       "      <th>1</th>\n",
       "      <td>2522</td>\n",
       "      <td>from __future__ import division</td>\n",
       "      <td>0.317233</td>\n",
       "    </tr>\n",
       "    <tr>\n",
       "      <th>2</th>\n",
       "      <td>2455</td>\n",
       "      <td>from __future__ import absolute_import</td>\n",
       "      <td>0.308805</td>\n",
       "    </tr>\n",
       "    <tr>\n",
       "      <th>3</th>\n",
       "      <td>66</td>\n",
       "      <td>from __future__ import unicode_literals</td>\n",
       "      <td>0.008302</td>\n",
       "    </tr>\n",
       "    <tr>\n",
       "      <th>4</th>\n",
       "      <td>28</td>\n",
       "      <td>from __future__ import absolute_import, divisi...</td>\n",
       "      <td>0.003522</td>\n",
       "    </tr>\n",
       "  </tbody>\n",
       "</table>\n",
       "</div>"
      ],
      "text/plain": [
       "   count                                               line      prob\n",
       "0   2803              from __future__ import print_function  0.352579\n",
       "1   2522                    from __future__ import division  0.317233\n",
       "2   2455             from __future__ import absolute_import  0.308805\n",
       "3     66            from __future__ import unicode_literals  0.008302\n",
       "4     28  from __future__ import absolute_import, divisi...  0.003522"
      ]
     },
     "execution_count": 29,
     "metadata": {},
     "output_type": "execute_result"
    }
   ],
   "source": [
    "complete_code('from _', 5)"
   ]
  },
  {
   "cell_type": "code",
   "execution_count": 45,
   "metadata": {},
   "outputs": [],
   "source": [
    "def get_largest(g, n=3):\n",
    "    return g.nlargest(n, 'count')['count'].sum()"
   ]
  },
  {
   "cell_type": "code",
   "execution_count": 50,
   "metadata": {},
   "outputs": [
    {
     "data": {
      "text/plain": [
       "0.55526199131128651"
      ]
     },
     "execution_count": 50,
     "metadata": {},
     "output_type": "execute_result"
    }
   ],
   "source": [
    "top_n_count = imports_counts_df.groupby(['is_import', 'start_char']).apply(get_largest, 3).sum()\n",
    "top_n_precision = top_n_count.sum() / imports_counts_df['count'].sum()\n",
    "top_n_precision"
   ]
  },
  {
   "cell_type": "code",
   "execution_count": null,
   "metadata": {},
   "outputs": [],
   "source": []
  }
 ],
 "metadata": {
  "kernelspec": {
   "display_name": "Python 3",
   "language": "python",
   "name": "python3"
  },
  "language_info": {
   "codemirror_mode": {
    "name": "ipython",
    "version": 3
   },
   "file_extension": ".py",
   "mimetype": "text/x-python",
   "name": "python",
   "nbconvert_exporter": "python",
   "pygments_lexer": "ipython3",
   "version": "3.6.8"
  }
 },
 "nbformat": 4,
 "nbformat_minor": 2
}
