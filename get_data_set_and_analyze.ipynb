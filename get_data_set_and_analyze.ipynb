{
 "cells": [
  {
   "cell_type": "code",
   "execution_count": 1,
   "metadata": {},
   "outputs": [],
   "source": [
    "import os\n",
    "import subprocess\n",
    "import importlib\n",
    "import pandas as pd\n",
    "import tokenize"
   ]
  },
  {
   "cell_type": "code",
   "execution_count": 2,
   "metadata": {},
   "outputs": [
    {
     "data": {
      "text/plain": [
       "<module 'create_data_set_utils' from '/home/erez/research/code_completion/create_data_set_utils.py'>"
      ]
     },
     "execution_count": 2,
     "metadata": {},
     "output_type": "execute_result"
    }
   ],
   "source": [
    "import create_data_set_utils\n",
    "importlib.reload(create_data_set_utils)"
   ]
  },
  {
   "cell_type": "code",
   "execution_count": 3,
   "metadata": {},
   "outputs": [],
   "source": [
    "dir_path = r\"/home/erez/github_repos/siva/latest/\""
   ]
  },
  {
   "cell_type": "code",
   "execution_count": 4,
   "metadata": {},
   "outputs": [],
   "source": [
    "# get_data_set.unpack_siva_files_and_checkout_git_repos(dir_path)"
   ]
  },
  {
   "cell_type": "code",
   "execution_count": 5,
   "metadata": {},
   "outputs": [],
   "source": [
    "all_python_files_list = create_data_set_utils.get_python_files_paths(dir_path)"
   ]
  },
  {
   "cell_type": "code",
   "execution_count": 6,
   "metadata": {},
   "outputs": [
    {
     "data": {
      "text/plain": [
       "10035"
      ]
     },
     "execution_count": 6,
     "metadata": {},
     "output_type": "execute_result"
    }
   ],
   "source": [
    "len(all_python_files_list)"
   ]
  },
  {
   "cell_type": "code",
   "execution_count": 7,
   "metadata": {},
   "outputs": [],
   "source": [
    "python_files_df = create_data_set_utils.create_python_files_df(all_python_files_list)"
   ]
  },
  {
   "cell_type": "code",
   "execution_count": 8,
   "metadata": {},
   "outputs": [
    {
     "data": {
      "text/html": [
       "<div>\n",
       "<style scoped>\n",
       "    .dataframe tbody tr th:only-of-type {\n",
       "        vertical-align: middle;\n",
       "    }\n",
       "\n",
       "    .dataframe tbody tr th {\n",
       "        vertical-align: top;\n",
       "    }\n",
       "\n",
       "    .dataframe thead th {\n",
       "        text-align: right;\n",
       "    }\n",
       "</style>\n",
       "<table border=\"1\" class=\"dataframe\">\n",
       "  <thead>\n",
       "    <tr style=\"text-align: right;\">\n",
       "      <th></th>\n",
       "      <th>file_path</th>\n",
       "      <th>file_base_name</th>\n",
       "      <th>file_size</th>\n",
       "      <th>number_of_lines</th>\n",
       "    </tr>\n",
       "  </thead>\n",
       "  <tbody>\n",
       "    <tr>\n",
       "      <th>0</th>\n",
       "      <td>/home/erez/github_repos/siva/latest/e2/temp_gi...</td>\n",
       "      <td>get_svhn.py</td>\n",
       "      <td>2033</td>\n",
       "      <td>11</td>\n",
       "    </tr>\n",
       "    <tr>\n",
       "      <th>1</th>\n",
       "      <td>/home/erez/github_repos/siva/latest/e2/temp_gi...</td>\n",
       "      <td>load_svhn.py</td>\n",
       "      <td>5840</td>\n",
       "      <td>39</td>\n",
       "    </tr>\n",
       "    <tr>\n",
       "      <th>2</th>\n",
       "      <td>/home/erez/github_repos/siva/latest/e2/temp_gi...</td>\n",
       "      <td>test.py</td>\n",
       "      <td>49</td>\n",
       "      <td>26</td>\n",
       "    </tr>\n",
       "    <tr>\n",
       "      <th>3</th>\n",
       "      <td>/home/erez/github_repos/siva/latest/e2/temp_gi...</td>\n",
       "      <td>utils.py</td>\n",
       "      <td>108</td>\n",
       "      <td>11</td>\n",
       "    </tr>\n",
       "    <tr>\n",
       "      <th>4</th>\n",
       "      <td>/home/erez/github_repos/siva/latest/e2/temp_gi...</td>\n",
       "      <td>loader.py</td>\n",
       "      <td>893</td>\n",
       "      <td>10</td>\n",
       "    </tr>\n",
       "  </tbody>\n",
       "</table>\n",
       "</div>"
      ],
      "text/plain": [
       "                                           file_path file_base_name  \\\n",
       "0  /home/erez/github_repos/siva/latest/e2/temp_gi...    get_svhn.py   \n",
       "1  /home/erez/github_repos/siva/latest/e2/temp_gi...   load_svhn.py   \n",
       "2  /home/erez/github_repos/siva/latest/e2/temp_gi...        test.py   \n",
       "3  /home/erez/github_repos/siva/latest/e2/temp_gi...       utils.py   \n",
       "4  /home/erez/github_repos/siva/latest/e2/temp_gi...      loader.py   \n",
       "\n",
       "   file_size  number_of_lines  \n",
       "0       2033               11  \n",
       "1       5840               39  \n",
       "2         49               26  \n",
       "3        108               11  \n",
       "4        893               10  "
      ]
     },
     "execution_count": 8,
     "metadata": {},
     "output_type": "execute_result"
    }
   ],
   "source": [
    "python_files_df.head()"
   ]
  },
  {
   "cell_type": "code",
   "execution_count": 9,
   "metadata": {},
   "outputs": [
    {
     "data": {
      "text/plain": [
       "309690"
      ]
     },
     "execution_count": 9,
     "metadata": {},
     "output_type": "execute_result"
    }
   ],
   "source": [
    "python_files_df['number_of_lines'].sum()"
   ]
  },
  {
   "cell_type": "code",
   "execution_count": 10,
   "metadata": {},
   "outputs": [
    {
     "name": "stdout",
     "output_type": "stream",
     "text": [
      "/home/erez/github_repos/siva/latest/b1/temp_git_repo_b1cedd8ed2f705506c1e0d9e13dbfbb340741329.siva/2.Forecast_name/main.py\n",
      "/home/erez/github_repos/siva/latest/37/temp_git_repo_377c20db71d269f3d2d958d51d8435691c679afe.siva/model/APV_MCTS_tree.py\n",
      "/home/erez/github_repos/siva/latest/37/temp_git_repo_377c20db71d269f3d2d958d51d8435691c679afe.siva/support/go-NN-master/engine/OnlineExampleMaker.py\n",
      "/home/erez/github_repos/siva/latest/25/temp_git_repo_2560481619759357036b065cf0f7d599b7ac7638.siva/extract_features.py\n"
     ]
    },
    {
     "data": {
      "text/html": [
       "<div>\n",
       "<style scoped>\n",
       "    .dataframe tbody tr th:only-of-type {\n",
       "        vertical-align: middle;\n",
       "    }\n",
       "\n",
       "    .dataframe tbody tr th {\n",
       "        vertical-align: top;\n",
       "    }\n",
       "\n",
       "    .dataframe thead th {\n",
       "        text-align: right;\n",
       "    }\n",
       "</style>\n",
       "<table border=\"1\" class=\"dataframe\">\n",
       "  <thead>\n",
       "    <tr style=\"text-align: right;\">\n",
       "      <th></th>\n",
       "      <th>end</th>\n",
       "      <th>file_path</th>\n",
       "      <th>line</th>\n",
       "      <th>line_index</th>\n",
       "      <th>start</th>\n",
       "      <th>string</th>\n",
       "      <th>type_name</th>\n",
       "    </tr>\n",
       "  </thead>\n",
       "  <tbody>\n",
       "    <tr>\n",
       "      <th>0</th>\n",
       "      <td>(0, 0)</td>\n",
       "      <td>/home/erez/github_repos/siva/latest/e2/temp_gi...</td>\n",
       "      <td></td>\n",
       "      <td>0</td>\n",
       "      <td>(0, 0)</td>\n",
       "      <td>utf-8</td>\n",
       "      <td>BACKQUOTE</td>\n",
       "    </tr>\n",
       "    <tr>\n",
       "      <th>1</th>\n",
       "      <td>(1, 6)</td>\n",
       "      <td>/home/erez/github_repos/siva/latest/e2/temp_gi...</td>\n",
       "      <td>import sys\\n</td>\n",
       "      <td>1</td>\n",
       "      <td>(1, 0)</td>\n",
       "      <td>import</td>\n",
       "      <td>NAME</td>\n",
       "    </tr>\n",
       "    <tr>\n",
       "      <th>2</th>\n",
       "      <td>(1, 10)</td>\n",
       "      <td>/home/erez/github_repos/siva/latest/e2/temp_gi...</td>\n",
       "      <td>import sys\\n</td>\n",
       "      <td>1</td>\n",
       "      <td>(1, 7)</td>\n",
       "      <td>sys</td>\n",
       "      <td>NAME</td>\n",
       "    </tr>\n",
       "    <tr>\n",
       "      <th>3</th>\n",
       "      <td>(1, 11)</td>\n",
       "      <td>/home/erez/github_repos/siva/latest/e2/temp_gi...</td>\n",
       "      <td>import sys\\n</td>\n",
       "      <td>1</td>\n",
       "      <td>(1, 10)</td>\n",
       "      <td>\\n</td>\n",
       "      <td>NEWLINE</td>\n",
       "    </tr>\n",
       "    <tr>\n",
       "      <th>4</th>\n",
       "      <td>(2, 6)</td>\n",
       "      <td>/home/erez/github_repos/siva/latest/e2/temp_gi...</td>\n",
       "      <td>import os\\n</td>\n",
       "      <td>2</td>\n",
       "      <td>(2, 0)</td>\n",
       "      <td>import</td>\n",
       "      <td>NAME</td>\n",
       "    </tr>\n",
       "  </tbody>\n",
       "</table>\n",
       "</div>"
      ],
      "text/plain": [
       "       end                                          file_path          line  \\\n",
       "0   (0, 0)  /home/erez/github_repos/siva/latest/e2/temp_gi...                 \n",
       "1   (1, 6)  /home/erez/github_repos/siva/latest/e2/temp_gi...  import sys\\n   \n",
       "2  (1, 10)  /home/erez/github_repos/siva/latest/e2/temp_gi...  import sys\\n   \n",
       "3  (1, 11)  /home/erez/github_repos/siva/latest/e2/temp_gi...  import sys\\n   \n",
       "4   (2, 6)  /home/erez/github_repos/siva/latest/e2/temp_gi...   import os\\n   \n",
       "\n",
       "  line_index    start  string  type_name  \n",
       "0          0   (0, 0)   utf-8  BACKQUOTE  \n",
       "1          1   (1, 0)  import       NAME  \n",
       "2          1   (1, 7)     sys       NAME  \n",
       "3          1  (1, 10)      \\n    NEWLINE  \n",
       "4          2   (2, 0)  import       NAME  "
      ]
     },
     "execution_count": 10,
     "metadata": {},
     "output_type": "execute_result"
    }
   ],
   "source": [
    "tokens_df = create_data_set_utils.create_tokens_df(python_files_df)\n",
    "tokens_df.head()"
   ]
  },
  {
   "cell_type": "code",
   "execution_count": 11,
   "metadata": {},
   "outputs": [
    {
     "data": {
      "text/plain": [
       "(12500373, 7)"
      ]
     },
     "execution_count": 11,
     "metadata": {},
     "output_type": "execute_result"
    }
   ],
   "source": [
    "tokens_df.shape"
   ]
  },
  {
   "cell_type": "code",
   "execution_count": 12,
   "metadata": {},
   "outputs": [
    {
     "data": {
      "text/plain": [
       "3940934381"
      ]
     },
     "execution_count": 12,
     "metadata": {},
     "output_type": "execute_result"
    }
   ],
   "source": [
    "tokens_df.memory_usage(deep=True).sum()"
   ]
  },
  {
   "cell_type": "code",
   "execution_count": 13,
   "metadata": {},
   "outputs": [
    {
     "data": {
      "text/plain": [
       "321686"
      ]
     },
     "execution_count": 13,
     "metadata": {},
     "output_type": "execute_result"
    }
   ],
   "source": [
    "len(tokens_df['string'].unique())"
   ]
  },
  {
   "cell_type": "code",
   "execution_count": 14,
   "metadata": {},
   "outputs": [
    {
     "data": {
      "text/plain": [
       "['BACKQUOTE',\n",
       " 'NAME',\n",
       " 'NEWLINE',\n",
       " 'OP',\n",
       " 'NL',\n",
       " 'INDENT',\n",
       " 'STRING',\n",
       " 'NUMBER',\n",
       " 'DEDENT',\n",
       " 'COMMENT',\n",
       " 'ENDMARKER']"
      ]
     },
     "execution_count": 14,
     "metadata": {},
     "output_type": "execute_result"
    }
   ],
   "source": [
    "tokens_df['type_name'].unique().tolist()"
   ]
  },
  {
   "cell_type": "code",
   "execution_count": 15,
   "metadata": {},
   "outputs": [
    {
     "data": {
      "text/plain": [
       "type_name\n",
       "BACKQUOTE      10031\n",
       "COMMENT       158895\n",
       "DEDENT        223791\n",
       "ENDMARKER      10031\n",
       "INDENT        223791\n",
       "NAME         4175202\n",
       "NEWLINE       949939\n",
       "NL            655768\n",
       "NUMBER        501763\n",
       "OP           5215984\n",
       "STRING        375178\n",
       "dtype: int64"
      ]
     },
     "execution_count": 15,
     "metadata": {},
     "output_type": "execute_result"
    }
   ],
   "source": [
    "tokens_df.groupby('type_name').size()"
   ]
  },
  {
   "cell_type": "code",
   "execution_count": 16,
   "metadata": {},
   "outputs": [
    {
     "data": {
      "text/plain": [
       "type_name\n",
       "BACKQUOTE         4\n",
       "COMMENT       71481\n",
       "DEDENT            1\n",
       "ENDMARKER         1\n",
       "INDENT           54\n",
       "NAME         125697\n",
       "NEWLINE           3\n",
       "NL                3\n",
       "NUMBER         7220\n",
       "OP               44\n",
       "STRING       117184\n",
       "dtype: int64"
      ]
     },
     "execution_count": 16,
     "metadata": {},
     "output_type": "execute_result"
    }
   ],
   "source": [
    "tokens_df.groupby('type_name').apply(lambda x: len(x['string'].unique()))"
   ]
  },
  {
   "cell_type": "code",
   "execution_count": 17,
   "metadata": {},
   "outputs": [
    {
     "data": {
      "text/plain": [
       "\\n      932386\n",
       "\\r\\n     16632\n",
       "           921\n",
       "Name: string, dtype: int64"
      ]
     },
     "execution_count": 17,
     "metadata": {},
     "output_type": "execute_result"
    }
   ],
   "source": [
    "tokens_df[tokens_df['type_name'] == 'NEWLINE']['string'].value_counts()"
   ]
  },
  {
   "cell_type": "code",
   "execution_count": 18,
   "metadata": {},
   "outputs": [
    {
     "data": {
      "text/plain": [
       ",      958817\n",
       ".      908706\n",
       "(      841036\n",
       ")      841036\n",
       "=      635834\n",
       ":      296297\n",
       "[      250596\n",
       "]      250596\n",
       "+       37337\n",
       "-       35671\n",
       "*       29186\n",
       "==      25251\n",
       "{       18199\n",
       "}       18199\n",
       "%       13696\n",
       "/       10104\n",
       "+=       7848\n",
       "@        7045\n",
       "**       6193\n",
       ">        5469\n",
       "!=       4463\n",
       "<        3773\n",
       ">=       1889\n",
       "//       1588\n",
       ";        1584\n",
       "<=       1279\n",
       "*=        637\n",
       "-=        563\n",
       "&         545\n",
       "|         519\n",
       "/=        479\n",
       ">>        378\n",
       "<<        366\n",
       "...       343\n",
       "~         281\n",
       "|=         59\n",
       "->         30\n",
       "^          28\n",
       "&=         23\n",
       "//=        22\n",
       "%=          7\n",
       ">>=         6\n",
       "^=          5\n",
       "**=         1\n",
       "Name: string, dtype: int64"
      ]
     },
     "execution_count": 18,
     "metadata": {},
     "output_type": "execute_result"
    }
   ],
   "source": [
    "tokens_df[tokens_df['type_name'] == 'OP']['string'].value_counts()"
   ]
  },
  {
   "cell_type": "code",
   "execution_count": 19,
   "metadata": {},
   "outputs": [
    {
     "data": {
      "text/plain": [
       "utf-8    10003\n",
       "utf8        25\n",
       "gbk          2\n",
       "cp949        1\n",
       "Name: string, dtype: int64"
      ]
     },
     "execution_count": 19,
     "metadata": {},
     "output_type": "execute_result"
    }
   ],
   "source": [
    "tokens_df[tokens_df['type_name'] == 'BACKQUOTE']['string'].value_counts()"
   ]
  },
  {
   "cell_type": "code",
   "execution_count": 20,
   "metadata": {},
   "outputs": [
    {
     "data": {
      "text/plain": [
       "                                                    61357\n",
       "                                                    54183\n",
       "                                                    38589\n",
       "                                                    23444\n",
       "                                                    15793\n",
       "                                                    14243\n",
       "                                                     5788\n",
       "                                                     3807\n",
       "                                                     1982\n",
       "\\t\\t                                                 1129\n",
       "\\t                                                    744\n",
       "\\t\\t\\t                                                726\n",
       "                                                      555\n",
       "                                                      389\n",
       "\\t\\t\\t\\t                                              380\n",
       "\\t\\t\\t\\t\\t                                            148\n",
       "                                                      136\n",
       "                                                       55\n",
       "                                                       47\n",
       "\\t                                                     30\n",
       "                                                       29\n",
       "                                                       27\n",
       "\\t\\t\\t\\t\\t\\t                                           27\n",
       "                                                       20\n",
       "    \\t                                                 20\n",
       "                                                       20\n",
       "\\t\\t\\t\\t\\t\\t\\t                                         18\n",
       "                                                       17\n",
       "                                                       12\n",
       "                                                       10\n",
       "                                                        9\n",
       "                                                        8\n",
       "            \\t                                          7\n",
       "\\t\\t                                                    7\n",
       "        \\t                                              6\n",
       "                                                        3\n",
       "\\t \\t\\t                                                 2\n",
       "\\t\\t\\t                                                  2\n",
       "                                                        2\n",
       "                                                        2\n",
       "                                                        2\n",
       "                                                        2\n",
       "\\t \\t                                                   2\n",
       "\\t\\t\\t\\t\\t\\t\\t\\t                                        2\n",
       "                                                        1\n",
       "\\t\\t    \\t                                              1\n",
       "\\t \\t\\t\\t                                               1\n",
       "\\t                                                      1\n",
       "\\t\\t\\t\\t\\t\\t\\t\\t\\t\\t                                    1\n",
       "\\t    \\t                                                1\n",
       "\\t\\t\\t\\t\\t\\t\\t\\t\\t                                      1\n",
       "  \\t                                                    1\n",
       "\\t\\t                                                    1\n",
       "    \\t                                                  1\n",
       "Name: string, dtype: int64"
      ]
     },
     "execution_count": 20,
     "metadata": {},
     "output_type": "execute_result"
    }
   ],
   "source": [
    "tokens_df[tokens_df['type_name'] == 'INDENT']['string'].value_counts()"
   ]
  },
  {
   "cell_type": "code",
   "execution_count": 21,
   "metadata": {},
   "outputs": [
    {
     "data": {
      "text/plain": [
       "    223791\n",
       "Name: string, dtype: int64"
      ]
     },
     "execution_count": 21,
     "metadata": {},
     "output_type": "execute_result"
    }
   ],
   "source": [
    "tokens_df[tokens_df['type_name'] == 'DEDENT']['string'].value_counts()"
   ]
  },
  {
   "cell_type": "code",
   "execution_count": 22,
   "metadata": {},
   "outputs": [
    {
     "data": {
      "text/plain": [
       "\\n      647654\n",
       "\\r\\n      8078\n",
       "            36\n",
       "Name: string, dtype: int64"
      ]
     },
     "execution_count": 22,
     "metadata": {},
     "output_type": "execute_result"
    }
   ],
   "source": [
    "tokens_df[tokens_df['type_name'] == 'NL']['string'].value_counts()"
   ]
  },
  {
   "cell_type": "code",
   "execution_count": 23,
   "metadata": {},
   "outputs": [],
   "source": [
    "python_files_df.to_csv('python_files.csv')"
   ]
  },
  {
   "cell_type": "code",
   "execution_count": 24,
   "metadata": {},
   "outputs": [],
   "source": [
    "# tokens_df.to_csv('tokens.csv')"
   ]
  },
  {
   "cell_type": "code",
   "execution_count": 25,
   "metadata": {},
   "outputs": [
    {
     "data": {
      "text/plain": [
       "self           288038\n",
       "tf              97244\n",
       "def             81524\n",
       "if              62402\n",
       "import          59563\n",
       "np              50895\n",
       "return          48396\n",
       "None            45089\n",
       "in              42726\n",
       "for             36439\n",
       "x               35525\n",
       "from            31573\n",
       "name            30438\n",
       "True            24156\n",
       "False           23790\n",
       "i               23634\n",
       "with            22315\n",
       "as              21586\n",
       "result          19901\n",
       "dtype           18928\n",
       "df              18806\n",
       "else            18390\n",
       "data            18040\n",
       "len             17858\n",
       "nn              16501\n",
       "index           16088\n",
       "torch           15278\n",
       "not             15276\n",
       "assertEqual     15262\n",
       "shape           14913\n",
       "print           14647\n",
       "os              14299\n",
       "path            14119\n",
       "expected        13936\n",
       "args            13823\n",
       "sess            13686\n",
       "batch_size      13150\n",
       "model           11419\n",
       "class           10810\n",
       "append          10801\n",
       "tm              10593\n",
       "is              10529\n",
       "s               10327\n",
       "run              9873\n",
       "y                9796\n",
       "size             9432\n",
       "values           9310\n",
       "range            9199\n",
       "f                9074\n",
       "float32          8987\n",
       "Name: string, dtype: int64"
      ]
     },
     "execution_count": 25,
     "metadata": {},
     "output_type": "execute_result"
    }
   ],
   "source": [
    "tokens_df[tokens_df['type_name'] == 'NAME']['string'].value_counts()[:50]"
   ]
  },
  {
   "cell_type": "code",
   "execution_count": null,
   "metadata": {},
   "outputs": [],
   "source": []
  },
  {
   "cell_type": "code",
   "execution_count": null,
   "metadata": {},
   "outputs": [],
   "source": []
  }
 ],
 "metadata": {
  "kernelspec": {
   "display_name": "Python 3",
   "language": "python",
   "name": "python3"
  },
  "language_info": {
   "codemirror_mode": {
    "name": "ipython",
    "version": 3
   },
   "file_extension": ".py",
   "mimetype": "text/x-python",
   "name": "python",
   "nbconvert_exporter": "python",
   "pygments_lexer": "ipython3",
   "version": "3.6.8"
  }
 },
 "nbformat": 4,
 "nbformat_minor": 2
}
